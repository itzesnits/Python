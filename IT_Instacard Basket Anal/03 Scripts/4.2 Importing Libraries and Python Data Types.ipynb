{
 "cells": [
  {
   "cell_type": "markdown",
   "id": "50beb379",
   "metadata": {},
   "source": [
    "# 01. Importing libraries"
   ]
  },
  {
   "cell_type": "code",
   "execution_count": 3,
   "id": "15486934",
   "metadata": {},
   "outputs": [],
   "source": [
    "# Import libraries\n",
    "import pandas as pd\n",
    "import numpy as np \n",
    "import os"
   ]
  },
  {
   "cell_type": "markdown",
   "id": "db926084",
   "metadata": {},
   "source": [
    "## Working with Data Types"
   ]
  },
  {
   "cell_type": "code",
   "execution_count": 24,
   "id": "7ea83c1b",
   "metadata": {},
   "outputs": [
    {
     "data": {
      "text/plain": [
       "100"
      ]
     },
     "execution_count": 24,
     "metadata": {},
     "output_type": "execute_result"
    }
   ],
   "source": [
    "99+1"
   ]
  },
  {
   "cell_type": "code",
   "execution_count": 25,
   "id": "c995bddb",
   "metadata": {},
   "outputs": [
    {
     "data": {
      "text/plain": [
       "100"
      ]
     },
     "execution_count": 25,
     "metadata": {},
     "output_type": "execute_result"
    }
   ],
   "source": [
    "50+50"
   ]
  },
  {
   "cell_type": "code",
   "execution_count": 26,
   "id": "3978c434",
   "metadata": {},
   "outputs": [
    {
     "data": {
      "text/plain": [
       "100"
      ]
     },
     "execution_count": 26,
     "metadata": {},
     "output_type": "execute_result"
    }
   ],
   "source": [
    "150-50"
   ]
  },
  {
   "cell_type": "code",
   "execution_count": 27,
   "id": "1fb45266",
   "metadata": {},
   "outputs": [],
   "source": [
    "d=3.14"
   ]
  },
  {
   "cell_type": "code",
   "execution_count": 29,
   "id": "889dc38c",
   "metadata": {},
   "outputs": [],
   "source": [
    "e=55.3654"
   ]
  },
  {
   "cell_type": "code",
   "execution_count": 30,
   "id": "df9282a4",
   "metadata": {},
   "outputs": [
    {
     "data": {
      "text/plain": [
       "17.63229299363057"
      ]
     },
     "execution_count": 30,
     "metadata": {},
     "output_type": "execute_result"
    }
   ],
   "source": [
    "e/d"
   ]
  },
  {
   "cell_type": "code",
   "execution_count": 34,
   "id": "b7db9951",
   "metadata": {},
   "outputs": [],
   "source": [
    "f = 'Hello '"
   ]
  },
  {
   "cell_type": "code",
   "execution_count": 32,
   "id": "96f68fd1",
   "metadata": {},
   "outputs": [],
   "source": [
    "g = 'World'"
   ]
  },
  {
   "cell_type": "code",
   "execution_count": 35,
   "id": "d86997f7",
   "metadata": {},
   "outputs": [
    {
     "data": {
      "text/plain": [
       "'Hello World'"
      ]
     },
     "execution_count": 35,
     "metadata": {},
     "output_type": "execute_result"
    }
   ],
   "source": [
    "f+g"
   ]
  },
  {
   "cell_type": "code",
   "execution_count": 44,
   "id": "a0adf4e6",
   "metadata": {},
   "outputs": [],
   "source": [
    "h='Hi Barbie '"
   ]
  },
  {
   "cell_type": "code",
   "execution_count": 42,
   "id": "049462f6",
   "metadata": {},
   "outputs": [],
   "source": [
    "i='Hi Ken. '"
   ]
  },
  {
   "cell_type": "code",
   "execution_count": 40,
   "id": "1e313ea7",
   "metadata": {},
   "outputs": [],
   "source": [
    "j= 'Do you want to go for a ride?'"
   ]
  },
  {
   "cell_type": "code",
   "execution_count": 45,
   "id": "14f27e7d",
   "metadata": {},
   "outputs": [
    {
     "data": {
      "text/plain": [
       "'Hi Barbie Hi Ken. Do you want to go for a ride?'"
      ]
     },
     "execution_count": 45,
     "metadata": {},
     "output_type": "execute_result"
    }
   ],
   "source": [
    "h+i+j"
   ]
  },
  {
   "cell_type": "code",
   "execution_count": null,
   "id": "0ec3a97c",
   "metadata": {},
   "outputs": [],
   "source": []
  }
 ],
 "metadata": {
  "kernelspec": {
   "display_name": "Python 3 (ipykernel)",
   "language": "python",
   "name": "python3"
  },
  "language_info": {
   "codemirror_mode": {
    "name": "ipython",
    "version": 3
   },
   "file_extension": ".py",
   "mimetype": "text/x-python",
   "name": "python",
   "nbconvert_exporter": "python",
   "pygments_lexer": "ipython3",
   "version": "3.11.4"
  }
 },
 "nbformat": 4,
 "nbformat_minor": 5
}
