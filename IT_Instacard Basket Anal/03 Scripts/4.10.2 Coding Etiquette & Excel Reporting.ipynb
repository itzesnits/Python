{
 "cells": [
  {
   "cell_type": "markdown",
   "id": "fde46f46",
   "metadata": {},
   "source": [
    "# Exercise 4.10.2 Customer Profiles"
   ]
  },
  {
   "cell_type": "markdown",
   "id": "697ad0db",
   "metadata": {},
   "source": [
    "This script contains\n",
    "\n",
    "5a. Customer profiles based on age and income\n",
    "5b. Customer profile based on family status and number of dependants\n",
    "5c. Customer profile based on department\n",
    "6.  Additional visualizations"
   ]
  },
  {
   "cell_type": "markdown",
   "id": "2908f91c",
   "metadata": {},
   "source": [
    "# Import Libraries "
   ]
  },
  {
   "cell_type": "code",
   "execution_count": 4,
   "id": "8834468b",
   "metadata": {},
   "outputs": [],
   "source": [
    "# import libraries\n",
    "\n",
    "import pandas as pd\n",
    "import numpy as np\n",
    "import os\n",
    "import matplotlib.pyplot as plt\n",
    "import seaborn as sns\n",
    "import scipy"
   ]
  },
  {
   "cell_type": "code",
   "execution_count": 5,
   "id": "dd02131b",
   "metadata": {},
   "outputs": [],
   "source": [
    "# path to InstaCart folders\n",
    "\n",
    "path = r\"C:\\Users\\ivand\\OneDrive\\Desktop\\Careerfoundry\\IT_Instacart Baskey Analysis\""
   ]
  },
  {
   "cell_type": "code",
   "execution_count": 6,
   "id": "f5e02562",
   "metadata": {},
   "outputs": [],
   "source": [
    "# import orders_products_customers_normact_merged.pkl from Prepared Data folder\n",
    "# this is the version without the low_activity customer flags\n",
    "\n",
    "df_ords_prods_cust_merge = pd.read_pickle(os.path.join(path, '02 Data', 'Prepared Data', 'orders_products_customers_normact_merged.pkl'))"
   ]
  },
  {
   "cell_type": "markdown",
   "id": "e129a08b",
   "metadata": {},
   "source": [
    "# 05. Customer profiles"
   ]
  },
  {
   "cell_type": "code",
   "execution_count": 7,
   "id": "56a115bf",
   "metadata": {},
   "outputs": [],
   "source": [
    "# The marketing and business strategy units want to create more-relevant marketing strategies for different products \n",
    "## Create a profiling variable based on age, income, certain goods in the “department_id” column, and number of dependents "
   ]
  },
  {
   "cell_type": "markdown",
   "id": "71c5a7e6",
   "metadata": {},
   "source": [
    "# 05 (a) Customer profiles based on age and income"
   ]
  },
  {
   "cell_type": "code",
   "execution_count": 8,
   "id": "9d0440da",
   "metadata": {},
   "outputs": [
    {
     "data": {
      "text/plain": [
       "count    3.096456e+07\n",
       "mean     4.946803e+01\n",
       "std      1.848528e+01\n",
       "min      1.800000e+01\n",
       "25%      3.300000e+01\n",
       "50%      4.900000e+01\n",
       "75%      6.500000e+01\n",
       "max      8.100000e+01\n",
       "Name: age, dtype: float64"
      ]
     },
     "execution_count": 8,
     "metadata": {},
     "output_type": "execute_result"
    }
   ],
   "source": [
    "# check descriptive statistics for age\n",
    "\n",
    "df_ords_prods_cust_merge['age'].describe()"
   ]
  },
  {
   "cell_type": "code",
   "execution_count": 9,
   "id": "93aa4326",
   "metadata": {},
   "outputs": [],
   "source": [
    "# create 4 age groups = young adult (18-33) adult (34-49) adult (50-64) senior (65+)"
   ]
  },
  {
   "cell_type": "code",
   "execution_count": 10,
   "id": "08948abf",
   "metadata": {},
   "outputs": [],
   "source": [
    "# create flag for young adult (18-33)\n",
    "\n",
    "df_ords_prods_cust_merge.loc[(df_ords_prods_cust_merge['age'] >= 18) & (df_ords_prods_cust_merge['age'] <= 33), 'age_group'] = 'Young adult (18-33)'"
   ]
  },
  {
   "cell_type": "code",
   "execution_count": 11,
   "id": "e8d61c7a",
   "metadata": {},
   "outputs": [],
   "source": [
    "# create flag for adult (34-49)\n",
    "\n",
    "df_ords_prods_cust_merge.loc[(df_ords_prods_cust_merge['age'] >= 34) & (df_ords_prods_cust_merge['age'] <= 49), 'age_group'] = 'Adult (34-49)'"
   ]
  },
  {
   "cell_type": "code",
   "execution_count": 12,
   "id": "3b0a01c5",
   "metadata": {},
   "outputs": [],
   "source": [
    "# create flag for adult (50-64)\n",
    "\n",
    "df_ords_prods_cust_merge.loc[(df_ords_prods_cust_merge['age'] >= 50) & (df_ords_prods_cust_merge['age'] <= 64), 'age_group'] = 'Adult (50-64)'"
   ]
  },
  {
   "cell_type": "code",
   "execution_count": 13,
   "id": "3c13522b",
   "metadata": {},
   "outputs": [],
   "source": [
    "# create flag for senior (65+)\n",
    "\n",
    "df_ords_prods_cust_merge.loc[(df_ords_prods_cust_merge['age'] >= 65), 'age_group'] = 'Senior (65+)'"
   ]
  },
  {
   "cell_type": "code",
   "execution_count": 14,
   "id": "089be9c1",
   "metadata": {},
   "outputs": [
    {
     "data": {
      "text/plain": [
       "age_group\n",
       "Senior (65+)           8195544\n",
       "Adult (34-49)          7790824\n",
       "Young adult (18-33)    7757465\n",
       "Adult (50-64)          7220731\n",
       "Name: count, dtype: int64"
      ]
     },
     "execution_count": 14,
     "metadata": {},
     "output_type": "execute_result"
    }
   ],
   "source": [
    "# check output for new column 'age_group'\n",
    "\n",
    "df_ords_prods_cust_merge['age_group'].value_counts(dropna=False)"
   ]
  },
  {
   "cell_type": "code",
   "execution_count": 15,
   "id": "ee41d988",
   "metadata": {},
   "outputs": [
    {
     "data": {
      "text/plain": [
       "count    3.096456e+07\n",
       "mean     9.967587e+04\n",
       "std      4.314187e+04\n",
       "min      2.590300e+04\n",
       "25%      6.729200e+04\n",
       "50%      9.676500e+04\n",
       "75%      1.281020e+05\n",
       "max      5.939010e+05\n",
       "Name: income, dtype: float64"
      ]
     },
     "execution_count": 15,
     "metadata": {},
     "output_type": "execute_result"
    }
   ],
   "source": [
    "# check descriptive statistics for income\n",
    "\n",
    "df_ords_prods_cust_merge['income'].describe()"
   ]
  },
  {
   "cell_type": "code",
   "execution_count": 16,
   "id": "dfffbc44",
   "metadata": {},
   "outputs": [],
   "source": [
    "# create 3 income levels - low ($25,000 - $67,000) Medium ($68,000 - $128,000) High ($129,000+)"
   ]
  },
  {
   "cell_type": "code",
   "execution_count": 17,
   "id": "542c5df2",
   "metadata": {},
   "outputs": [],
   "source": [
    "# create flag for Low income\n",
    "\n",
    "df_ords_prods_cust_merge.loc[(df_ords_prods_cust_merge['income'] >= 25000) & (df_ords_prods_cust_merge['income'] <= 67000), 'income_group'] = 'Low income'"
   ]
  },
  {
   "cell_type": "code",
   "execution_count": 18,
   "id": "e6516bf9",
   "metadata": {},
   "outputs": [],
   "source": [
    "# create flag for Medium income\n",
    "\n",
    "df_ords_prods_cust_merge.loc[(df_ords_prods_cust_merge['income'] >= 67001) & (df_ords_prods_cust_merge['income'] <= 128000), 'income_group'] = 'Medium income'"
   ]
  },
  {
   "cell_type": "code",
   "execution_count": 19,
   "id": "89792eb9",
   "metadata": {},
   "outputs": [],
   "source": [
    "# create flag for High income\n",
    "\n",
    "df_ords_prods_cust_merge.loc[(df_ords_prods_cust_merge['income'] >= 128001), 'income_group'] = 'High income'"
   ]
  },
  {
   "cell_type": "code",
   "execution_count": 20,
   "id": "1141836a",
   "metadata": {},
   "outputs": [
    {
     "data": {
      "text/plain": [
       "income_group\n",
       "Medium income    15549969\n",
       "High income       7753117\n",
       "Low income        7661478\n",
       "Name: count, dtype: int64"
      ]
     },
     "execution_count": 20,
     "metadata": {},
     "output_type": "execute_result"
    }
   ],
   "source": [
    "# check output for new column 'income_group'\n",
    "\n",
    "df_ords_prods_cust_merge['income_group'].value_counts(dropna=False)"
   ]
  },
  {
   "cell_type": "code",
   "execution_count": 62,
   "id": "3f87b842",
   "metadata": {},
   "outputs": [],
   "source": [
    "# age and income crosstab\n",
    "\n",
    "income_age = pd.crosstab(df_ords_prods_cust_merge['income_group'], df_ords_prods_cust_merge['age_group'], dropna = False)"
   ]
  },
  {
   "cell_type": "code",
   "execution_count": 63,
   "id": "639009e8",
   "metadata": {},
   "outputs": [
    {
     "data": {
      "text/html": [
       "<div>\n",
       "<style scoped>\n",
       "    .dataframe tbody tr th:only-of-type {\n",
       "        vertical-align: middle;\n",
       "    }\n",
       "\n",
       "    .dataframe tbody tr th {\n",
       "        vertical-align: top;\n",
       "    }\n",
       "\n",
       "    .dataframe thead th {\n",
       "        text-align: right;\n",
       "    }\n",
       "</style>\n",
       "<table border=\"1\" class=\"dataframe\">\n",
       "  <thead>\n",
       "    <tr style=\"text-align: right;\">\n",
       "      <th>age_group</th>\n",
       "      <th>Adult (34-49)</th>\n",
       "      <th>Adult (50-64)</th>\n",
       "      <th>Senior (65+)</th>\n",
       "      <th>Young adult (18-33)</th>\n",
       "    </tr>\n",
       "    <tr>\n",
       "      <th>income_group</th>\n",
       "      <th></th>\n",
       "      <th></th>\n",
       "      <th></th>\n",
       "      <th></th>\n",
       "    </tr>\n",
       "  </thead>\n",
       "  <tbody>\n",
       "    <tr>\n",
       "      <th>High income</th>\n",
       "      <td>1746612</td>\n",
       "      <td>2777095</td>\n",
       "      <td>3142123</td>\n",
       "      <td>87287</td>\n",
       "    </tr>\n",
       "    <tr>\n",
       "      <th>Low income</th>\n",
       "      <td>2108709</td>\n",
       "      <td>950355</td>\n",
       "      <td>1046563</td>\n",
       "      <td>3555851</td>\n",
       "    </tr>\n",
       "    <tr>\n",
       "      <th>Medium income</th>\n",
       "      <td>3935503</td>\n",
       "      <td>3493281</td>\n",
       "      <td>4006858</td>\n",
       "      <td>4114327</td>\n",
       "    </tr>\n",
       "  </tbody>\n",
       "</table>\n",
       "</div>"
      ],
      "text/plain": [
       "age_group      Adult (34-49)  Adult (50-64)  Senior (65+)  Young adult (18-33)\n",
       "income_group                                                                  \n",
       "High income          1746612        2777095       3142123                87287\n",
       "Low income           2108709         950355       1046563              3555851\n",
       "Medium income        3935503        3493281       4006858              4114327"
      ]
     },
     "execution_count": 63,
     "metadata": {},
     "output_type": "execute_result"
    }
   ],
   "source": [
    "income_age"
   ]
  },
  {
   "cell_type": "code",
   "execution_count": 66,
   "id": "e933ad21",
   "metadata": {},
   "outputs": [
    {
     "data": {
      "image/png": "[encoded data removed]",
      "text/plain": [
       "<Figure size 640x480 with 1 Axes>"
      ]
     },
     "metadata": {},
     "output_type": "display_data"
    }
   ],
   "source": [
    "# Create a bar chart of the above 'age_income' crosstab\n",
    "\n",
    "income_age_bar=income_age.plot.bar(color=['thistle','cornflowerblue','darkblue','m'])\n",
    "plt.xlabel(\"Region\", fontsize=11)\n",
    "plt.ylabel(\"Frequency\",fontsize=11)\n",
    "plt.title(\"Customers by Age and Income Groups\", fontsize=12)\n",
    "plt.legend(loc='center left', bbox_to_anchor=(1.0, 0.5))\n",
    "plt.tight_layout()"
   ]
  },
  {
   "cell_type": "code",
   "execution_count": 67,
   "id": "6d9f3218",
   "metadata": {},
   "outputs": [],
   "source": [
    "# export Customers by Age and Income Groups to visualizations folder\n",
    "\n",
    "income_age_bar.figure.savefig(os.path.join(path, '04 Analysis','Visualizations', 'income_age_bar.png'))"
   ]
  },
  {
   "cell_type": "markdown",
   "id": "f229dd49",
   "metadata": {},
   "source": [
    "# 05 (b) Customer profile - family status and n dependants"
   ]
  },
  {
   "cell_type": "code",
   "execution_count": 25,
   "id": "a1f45329",
   "metadata": {},
   "outputs": [
    {
     "data": {
      "text/plain": [
       "fam_status\n",
       "married                             21743711\n",
       "single                               5094410\n",
       "divorced/widowed                     2645271\n",
       "living with parents and siblings     1481172\n",
       "Name: count, dtype: int64"
      ]
     },
     "execution_count": 25,
     "metadata": {},
     "output_type": "execute_result"
    }
   ],
   "source": [
    "# check frequency of family status\n",
    "\n",
    "df_ords_prods_cust_merge['fam_status'].value_counts(dropna=False)"
   ]
  },
  {
   "cell_type": "code",
   "execution_count": 26,
   "id": "484c8ff3",
   "metadata": {},
   "outputs": [
    {
     "data": {
      "text/plain": [
       "n_dependants\n",
       "3    7772516\n",
       "0    7739681\n",
       "2    7733261\n",
       "1    7719106\n",
       "Name: count, dtype: int64"
      ]
     },
     "execution_count": 26,
     "metadata": {},
     "output_type": "execute_result"
    }
   ],
   "source": [
    "# check frequency of n_dependants\n",
    "\n",
    "df_ords_prods_cust_merge['n_dependants'].value_counts(dropna=False)"
   ]
  },
  {
   "cell_type": "code",
   "execution_count": 27,
   "id": "1e7c5a94",
   "metadata": {},
   "outputs": [],
   "source": [
    "# create crosstab between fam_status and n_dependants\n",
    "\n",
    "fam_profile = pd.crosstab(df_ords_prods_cust_merge['fam_status'], df_ords_prods_cust_merge['n_dependants'], dropna = False)"
   ]
  },
  {
   "cell_type": "code",
   "execution_count": 28,
   "id": "034ebcb1",
   "metadata": {},
   "outputs": [
    {
     "data": {
      "text/html": [
       "<div>\n",
       "<style scoped>\n",
       "    .dataframe tbody tr th:only-of-type {\n",
       "        vertical-align: middle;\n",
       "    }\n",
       "\n",
       "    .dataframe tbody tr th {\n",
       "        vertical-align: top;\n",
       "    }\n",
       "\n",
       "    .dataframe thead th {\n",
       "        text-align: right;\n",
       "    }\n",
       "</style>\n",
       "<table border=\"1\" class=\"dataframe\">\n",
       "  <thead>\n",
       "    <tr style=\"text-align: right;\">\n",
       "      <th>n_dependants</th>\n",
       "      <th>0</th>\n",
       "      <th>1</th>\n",
       "      <th>2</th>\n",
       "      <th>3</th>\n",
       "    </tr>\n",
       "    <tr>\n",
       "      <th>fam_status</th>\n",
       "      <th></th>\n",
       "      <th></th>\n",
       "      <th></th>\n",
       "      <th></th>\n",
       "    </tr>\n",
       "  </thead>\n",
       "  <tbody>\n",
       "    <tr>\n",
       "      <th>divorced/widowed</th>\n",
       "      <td>2645271</td>\n",
       "      <td>0</td>\n",
       "      <td>0</td>\n",
       "      <td>0</td>\n",
       "    </tr>\n",
       "    <tr>\n",
       "      <th>living with parents and siblings</th>\n",
       "      <td>0</td>\n",
       "      <td>508045</td>\n",
       "      <td>484658</td>\n",
       "      <td>488469</td>\n",
       "    </tr>\n",
       "    <tr>\n",
       "      <th>married</th>\n",
       "      <td>0</td>\n",
       "      <td>7211061</td>\n",
       "      <td>7248603</td>\n",
       "      <td>7284047</td>\n",
       "    </tr>\n",
       "    <tr>\n",
       "      <th>single</th>\n",
       "      <td>5094410</td>\n",
       "      <td>0</td>\n",
       "      <td>0</td>\n",
       "      <td>0</td>\n",
       "    </tr>\n",
       "  </tbody>\n",
       "</table>\n",
       "</div>"
      ],
      "text/plain": [
       "n_dependants                            0        1        2        3\n",
       "fam_status                                                          \n",
       "divorced/widowed                  2645271        0        0        0\n",
       "living with parents and siblings        0   508045   484658   488469\n",
       "married                                 0  7211061  7248603  7284047\n",
       "single                            5094410        0        0        0"
      ]
     },
     "execution_count": 28,
     "metadata": {},
     "output_type": "execute_result"
    }
   ],
   "source": [
    "fam_profile"
   ]
  },
  {
   "cell_type": "code",
   "execution_count": 29,
   "id": "defdc18d",
   "metadata": {},
   "outputs": [],
   "source": [
    "# based on the crosstab, we can create 3 profiles:\n",
    "## 1. Single adults: 'single' and 'divorced/widowed' adults with 0 dependants\n",
    "## 2. Married with children: 'married' adults with 1+ dependant\n",
    "## 3. Young adults: 'living with parents and siblings' with 1+ dependant"
   ]
  },
  {
   "cell_type": "code",
   "execution_count": 30,
   "id": "8d1e1d1f",
   "metadata": {},
   "outputs": [],
   "source": [
    "# Set 'Single adult' for fam_profile flag\n",
    "\n",
    "df_ords_prods_cust_merge.loc[(df_ords_prods_cust_merge['fam_status'].isin(['divorced/widowed','single']), 'fam_status_flag')] = 'Single adult'"
   ]
  },
  {
   "cell_type": "code",
   "execution_count": 31,
   "id": "7652114a",
   "metadata": {},
   "outputs": [],
   "source": [
    "# Set 'Married with children' for fam_profile flag\n",
    "\n",
    "df_ords_prods_cust_merge.loc[(df_ords_prods_cust_merge['fam_status'].isin(['married']), 'fam_status_flag')] = 'Married with children'"
   ]
  },
  {
   "cell_type": "code",
   "execution_count": 32,
   "id": "199685ba",
   "metadata": {},
   "outputs": [],
   "source": [
    "# Set 'Young adult' for fam_profile flag\n",
    "\n",
    "df_ords_prods_cust_merge.loc[(df_ords_prods_cust_merge['fam_status'].isin(['living with parents and siblings']), 'fam_status_flag')] = 'Young adult'"
   ]
  },
  {
   "cell_type": "code",
   "execution_count": 33,
   "id": "b875bb26",
   "metadata": {},
   "outputs": [
    {
     "data": {
      "text/plain": [
       "fam_status_flag\n",
       "Married with children    21743711\n",
       "Single adult              7739681\n",
       "Young adult               1481172\n",
       "Name: count, dtype: int64"
      ]
     },
     "execution_count": 33,
     "metadata": {},
     "output_type": "execute_result"
    }
   ],
   "source": [
    "# check results\n",
    "\n",
    "df_ords_prods_cust_merge['fam_status_flag'].value_counts(dropna=False)"
   ]
  },
  {
   "cell_type": "code",
   "execution_count": 81,
   "id": "e59121f1",
   "metadata": {},
   "outputs": [
    {
     "data": {
      "image/png": "[encoded data removed]",
      "text/plain": [
       "<Figure size 640x480 with 1 Axes>"
      ]
     },
     "metadata": {},
     "output_type": "display_data"
    }
   ],
   "source": [
    "# Create a bar chart of the 'fam_status_flag'\n",
    "\n",
    "bar_family_status = df_ords_prods_cust_merge['fam_status_flag'].value_counts().plot.bar(color=['slateblue'])\n",
    "plt.title(\"Customer Family Status Groups\",fontsize=12)\n",
    "plt.xlabel(\"Family Status\", fontsize=11)\n",
    "plt.ylabel(\"Frequency\",fontsize=11)\n",
    "plt.tight_layout()"
   ]
  },
  {
   "cell_type": "code",
   "execution_count": 82,
   "id": "cff187ef",
   "metadata": {},
   "outputs": [],
   "source": [
    "# export Customer Family Status Groups to visualizations folder\n",
    "\n",
    "bar_family_status.figure.savefig(os.path.join(path, '04 Analysis','Visualizations', 'bar_family_status.png'))"
   ]
  },
  {
   "cell_type": "markdown",
   "id": "146eec34",
   "metadata": {},
   "source": [
    "# 05 (c) Customer profile - goods by department"
   ]
  },
  {
   "cell_type": "code",
   "execution_count": 36,
   "id": "9d5f470e",
   "metadata": {},
   "outputs": [],
   "source": [
    "# import departments_wrangled.csv from Prepared Data folder\n",
    "\n",
    "df_depts = pd.read_csv(os.path.join(path, '02 Data', 'Prepared Data', 'departments_wrangled.csv'))"
   ]
  },
  {
   "cell_type": "code",
   "execution_count": 37,
   "id": "2deaeeb3",
   "metadata": {},
   "outputs": [
    {
     "data": {
      "text/plain": [
       "(21, 2)"
      ]
     },
     "execution_count": 37,
     "metadata": {},
     "output_type": "execute_result"
    }
   ],
   "source": [
    "df_depts.shape"
   ]
  },
  {
   "cell_type": "code",
   "execution_count": 38,
   "id": "59cf7030",
   "metadata": {},
   "outputs": [
    {
     "data": {
      "text/html": [
       "<div>\n",
       "<style scoped>\n",
       "    .dataframe tbody tr th:only-of-type {\n",
       "        vertical-align: middle;\n",
       "    }\n",
       "\n",
       "    .dataframe tbody tr th {\n",
       "        vertical-align: top;\n",
       "    }\n",
       "\n",
       "    .dataframe thead th {\n",
       "        text-align: right;\n",
       "    }\n",
       "</style>\n",
       "<table border=\"1\" class=\"dataframe\">\n",
       "  <thead>\n",
       "    <tr style=\"text-align: right;\">\n",
       "      <th></th>\n",
       "      <th>Unnamed: 0</th>\n",
       "      <th>department</th>\n",
       "    </tr>\n",
       "  </thead>\n",
       "  <tbody>\n",
       "    <tr>\n",
       "      <th>0</th>\n",
       "      <td>1</td>\n",
       "      <td>frozen</td>\n",
       "    </tr>\n",
       "    <tr>\n",
       "      <th>1</th>\n",
       "      <td>2</td>\n",
       "      <td>other</td>\n",
       "    </tr>\n",
       "    <tr>\n",
       "      <th>2</th>\n",
       "      <td>3</td>\n",
       "      <td>bakery</td>\n",
       "    </tr>\n",
       "    <tr>\n",
       "      <th>3</th>\n",
       "      <td>4</td>\n",
       "      <td>produce</td>\n",
       "    </tr>\n",
       "    <tr>\n",
       "      <th>4</th>\n",
       "      <td>5</td>\n",
       "      <td>alcohol</td>\n",
       "    </tr>\n",
       "    <tr>\n",
       "      <th>5</th>\n",
       "      <td>6</td>\n",
       "      <td>international</td>\n",
       "    </tr>\n",
       "    <tr>\n",
       "      <th>6</th>\n",
       "      <td>7</td>\n",
       "      <td>beverages</td>\n",
       "    </tr>\n",
       "    <tr>\n",
       "      <th>7</th>\n",
       "      <td>8</td>\n",
       "      <td>pets</td>\n",
       "    </tr>\n",
       "    <tr>\n",
       "      <th>8</th>\n",
       "      <td>9</td>\n",
       "      <td>dry goods pasta</td>\n",
       "    </tr>\n",
       "    <tr>\n",
       "      <th>9</th>\n",
       "      <td>10</td>\n",
       "      <td>bulk</td>\n",
       "    </tr>\n",
       "    <tr>\n",
       "      <th>10</th>\n",
       "      <td>11</td>\n",
       "      <td>personal care</td>\n",
       "    </tr>\n",
       "    <tr>\n",
       "      <th>11</th>\n",
       "      <td>12</td>\n",
       "      <td>meat seafood</td>\n",
       "    </tr>\n",
       "    <tr>\n",
       "      <th>12</th>\n",
       "      <td>13</td>\n",
       "      <td>pantry</td>\n",
       "    </tr>\n",
       "    <tr>\n",
       "      <th>13</th>\n",
       "      <td>14</td>\n",
       "      <td>breakfast</td>\n",
       "    </tr>\n",
       "    <tr>\n",
       "      <th>14</th>\n",
       "      <td>15</td>\n",
       "      <td>canned goods</td>\n",
       "    </tr>\n",
       "    <tr>\n",
       "      <th>15</th>\n",
       "      <td>16</td>\n",
       "      <td>dairy eggs</td>\n",
       "    </tr>\n",
       "    <tr>\n",
       "      <th>16</th>\n",
       "      <td>17</td>\n",
       "      <td>household</td>\n",
       "    </tr>\n",
       "    <tr>\n",
       "      <th>17</th>\n",
       "      <td>18</td>\n",
       "      <td>babies</td>\n",
       "    </tr>\n",
       "    <tr>\n",
       "      <th>18</th>\n",
       "      <td>19</td>\n",
       "      <td>snacks</td>\n",
       "    </tr>\n",
       "    <tr>\n",
       "      <th>19</th>\n",
       "      <td>20</td>\n",
       "      <td>deli</td>\n",
       "    </tr>\n",
       "    <tr>\n",
       "      <th>20</th>\n",
       "      <td>21</td>\n",
       "      <td>missing</td>\n",
       "    </tr>\n",
       "  </tbody>\n",
       "</table>\n",
       "</div>"
      ],
      "text/plain": [
       "    Unnamed: 0       department\n",
       "0            1           frozen\n",
       "1            2            other\n",
       "2            3           bakery\n",
       "3            4          produce\n",
       "4            5          alcohol\n",
       "5            6    international\n",
       "6            7        beverages\n",
       "7            8             pets\n",
       "8            9  dry goods pasta\n",
       "9           10             bulk\n",
       "10          11    personal care\n",
       "11          12     meat seafood\n",
       "12          13           pantry\n",
       "13          14        breakfast\n",
       "14          15     canned goods\n",
       "15          16       dairy eggs\n",
       "16          17        household\n",
       "17          18           babies\n",
       "18          19           snacks\n",
       "19          20             deli\n",
       "20          21          missing"
      ]
     },
     "execution_count": 38,
     "metadata": {},
     "output_type": "execute_result"
    }
   ],
   "source": [
    "df_depts.head(21)"
   ]
  },
  {
   "cell_type": "code",
   "execution_count": 39,
   "id": "957b93ca",
   "metadata": {},
   "outputs": [
    {
     "data": {
      "text/plain": [
       "Index(['order_id', 'user_id', 'eval_set', 'order_number', 'orders_day_of_week',\n",
       "       'order_hour_of_day', 'days_since_prior_order', 'product_id',\n",
       "       'add_to_cart_order', 'reordered', 'product_name', 'aisle_id',\n",
       "       'department_id', 'prices', '_merge', 'busiest_day', 'busiest_days',\n",
       "       'busiest_period_of_day', 'max_order', 'loyalty_flag', 'avg_spending',\n",
       "       'spending_flag', 'med_frequency', 'frequency_flag', 'sex', 'state',\n",
       "       'age', 'date_joined', 'n_dependants', 'fam_status', 'income', 'region',\n",
       "       'activity_flag', 'age_group', 'income_group', 'fam_status_flag'],\n",
       "      dtype='object')"
      ]
     },
     "execution_count": 39,
     "metadata": {},
     "output_type": "execute_result"
    }
   ],
   "source": [
    "df_ords_prods_cust_merge.columns"
   ]
  },
  {
   "cell_type": "code",
   "execution_count": 40,
   "id": "3fd41654",
   "metadata": {},
   "outputs": [],
   "source": [
    "# In df_depts - need to change the first column to 'deparment_id' so it matches with df_ords_prods_cust_merge\n",
    "# Join both datasets based on the 'department_id' column"
   ]
  },
  {
   "cell_type": "code",
   "execution_count": 41,
   "id": "691dbdba",
   "metadata": {},
   "outputs": [],
   "source": [
    "# convert the dataframe to index\n",
    "\n",
    "data_dict = df_depts.to_dict('index')"
   ]
  },
  {
   "cell_type": "code",
   "execution_count": 42,
   "id": "8fb1491e",
   "metadata": {},
   "outputs": [
    {
     "data": {
      "text/plain": [
       "{0: {'Unnamed: 0': 1, 'department': 'frozen'},\n",
       " 1: {'Unnamed: 0': 2, 'department': 'other'},\n",
       " 2: {'Unnamed: 0': 3, 'department': 'bakery'},\n",
       " 3: {'Unnamed: 0': 4, 'department': 'produce'},\n",
       " 4: {'Unnamed: 0': 5, 'department': 'alcohol'},\n",
       " 5: {'Unnamed: 0': 6, 'department': 'international'},\n",
       " 6: {'Unnamed: 0': 7, 'department': 'beverages'},\n",
       " 7: {'Unnamed: 0': 8, 'department': 'pets'},\n",
       " 8: {'Unnamed: 0': 9, 'department': 'dry goods pasta'},\n",
       " 9: {'Unnamed: 0': 10, 'department': 'bulk'},\n",
       " 10: {'Unnamed: 0': 11, 'department': 'personal care'},\n",
       " 11: {'Unnamed: 0': 12, 'department': 'meat seafood'},\n",
       " 12: {'Unnamed: 0': 13, 'department': 'pantry'},\n",
       " 13: {'Unnamed: 0': 14, 'department': 'breakfast'},\n",
       " 14: {'Unnamed: 0': 15, 'department': 'canned goods'},\n",
       " 15: {'Unnamed: 0': 16, 'department': 'dairy eggs'},\n",
       " 16: {'Unnamed: 0': 17, 'department': 'household'},\n",
       " 17: {'Unnamed: 0': 18, 'department': 'babies'},\n",
       " 18: {'Unnamed: 0': 19, 'department': 'snacks'},\n",
       " 19: {'Unnamed: 0': 20, 'department': 'deli'},\n",
       " 20: {'Unnamed: 0': 21, 'department': 'missing'}}"
      ]
     },
     "execution_count": 42,
     "metadata": {},
     "output_type": "execute_result"
    }
   ],
   "source": [
    "# check output\n",
    "\n",
    "data_dict"
   ]
  },
  {
   "cell_type": "code",
   "execution_count": 43,
   "id": "30b9c89e",
   "metadata": {},
   "outputs": [],
   "source": [
    "# Rename colunm for 'department_id'\n",
    "\n",
    "df_depts = df_depts.rename(columns = {'Unnamed: 0' : 'department_id'})"
   ]
  },
  {
   "cell_type": "code",
   "execution_count": 44,
   "id": "ccb53674",
   "metadata": {},
   "outputs": [
    {
     "data": {
      "text/html": [
       "<div>\n",
       "<style scoped>\n",
       "    .dataframe tbody tr th:only-of-type {\n",
       "        vertical-align: middle;\n",
       "    }\n",
       "\n",
       "    .dataframe tbody tr th {\n",
       "        vertical-align: top;\n",
       "    }\n",
       "\n",
       "    .dataframe thead th {\n",
       "        text-align: right;\n",
       "    }\n",
       "</style>\n",
       "<table border=\"1\" class=\"dataframe\">\n",
       "  <thead>\n",
       "    <tr style=\"text-align: right;\">\n",
       "      <th></th>\n",
       "      <th>department_id</th>\n",
       "      <th>department</th>\n",
       "    </tr>\n",
       "  </thead>\n",
       "  <tbody>\n",
       "    <tr>\n",
       "      <th>0</th>\n",
       "      <td>1</td>\n",
       "      <td>frozen</td>\n",
       "    </tr>\n",
       "    <tr>\n",
       "      <th>1</th>\n",
       "      <td>2</td>\n",
       "      <td>other</td>\n",
       "    </tr>\n",
       "    <tr>\n",
       "      <th>2</th>\n",
       "      <td>3</td>\n",
       "      <td>bakery</td>\n",
       "    </tr>\n",
       "    <tr>\n",
       "      <th>3</th>\n",
       "      <td>4</td>\n",
       "      <td>produce</td>\n",
       "    </tr>\n",
       "    <tr>\n",
       "      <th>4</th>\n",
       "      <td>5</td>\n",
       "      <td>alcohol</td>\n",
       "    </tr>\n",
       "  </tbody>\n",
       "</table>\n",
       "</div>"
      ],
      "text/plain": [
       "   department_id department\n",
       "0              1     frozen\n",
       "1              2      other\n",
       "2              3     bakery\n",
       "3              4    produce\n",
       "4              5    alcohol"
      ]
     },
     "execution_count": 44,
     "metadata": {},
     "output_type": "execute_result"
    }
   ],
   "source": [
    "# check output\n",
    "\n",
    "df_depts.head()"
   ]
  },
  {
   "cell_type": "code",
   "execution_count": 45,
   "id": "7fe66238",
   "metadata": {},
   "outputs": [],
   "source": [
    "# merge df_depts with df_ords_prods_cust_merge based on 'department_id' column\n",
    "\n",
    "df_ords_prods_cust_depts_merged =  df_ords_prods_cust_merge.merge(df_depts, on = 'department_id')"
   ]
  },
  {
   "cell_type": "code",
   "execution_count": 46,
   "id": "81121e23",
   "metadata": {},
   "outputs": [
    {
     "data": {
      "text/html": [
       "<div>\n",
       "<style scoped>\n",
       "    .dataframe tbody tr th:only-of-type {\n",
       "        vertical-align: middle;\n",
       "    }\n",
       "\n",
       "    .dataframe tbody tr th {\n",
       "        vertical-align: top;\n",
       "    }\n",
       "\n",
       "    .dataframe thead th {\n",
       "        text-align: right;\n",
       "    }\n",
       "</style>\n",
       "<table border=\"1\" class=\"dataframe\">\n",
       "  <thead>\n",
       "    <tr style=\"text-align: right;\">\n",
       "      <th></th>\n",
       "      <th>order_id</th>\n",
       "      <th>user_id</th>\n",
       "      <th>eval_set</th>\n",
       "      <th>order_number</th>\n",
       "      <th>orders_day_of_week</th>\n",
       "      <th>order_hour_of_day</th>\n",
       "      <th>days_since_prior_order</th>\n",
       "      <th>product_id</th>\n",
       "      <th>add_to_cart_order</th>\n",
       "      <th>reordered</th>\n",
       "      <th>...</th>\n",
       "      <th>date_joined</th>\n",
       "      <th>n_dependants</th>\n",
       "      <th>fam_status</th>\n",
       "      <th>income</th>\n",
       "      <th>region</th>\n",
       "      <th>activity_flag</th>\n",
       "      <th>age_group</th>\n",
       "      <th>income_group</th>\n",
       "      <th>fam_status_flag</th>\n",
       "      <th>department</th>\n",
       "    </tr>\n",
       "  </thead>\n",
       "  <tbody>\n",
       "    <tr>\n",
       "      <th>0</th>\n",
       "      <td>2539329</td>\n",
       "      <td>1</td>\n",
       "      <td>prior</td>\n",
       "      <td>1</td>\n",
       "      <td>2</td>\n",
       "      <td>8</td>\n",
       "      <td>NaN</td>\n",
       "      <td>196</td>\n",
       "      <td>1</td>\n",
       "      <td>0</td>\n",
       "      <td>...</td>\n",
       "      <td>2/17/2019</td>\n",
       "      <td>3</td>\n",
       "      <td>married</td>\n",
       "      <td>40423</td>\n",
       "      <td>South</td>\n",
       "      <td>normal activity</td>\n",
       "      <td>Young adult (18-33)</td>\n",
       "      <td>Low income</td>\n",
       "      <td>Married with children</td>\n",
       "      <td>beverages</td>\n",
       "    </tr>\n",
       "    <tr>\n",
       "      <th>1</th>\n",
       "      <td>2398795</td>\n",
       "      <td>1</td>\n",
       "      <td>prior</td>\n",
       "      <td>2</td>\n",
       "      <td>3</td>\n",
       "      <td>7</td>\n",
       "      <td>15.0</td>\n",
       "      <td>196</td>\n",
       "      <td>1</td>\n",
       "      <td>1</td>\n",
       "      <td>...</td>\n",
       "      <td>2/17/2019</td>\n",
       "      <td>3</td>\n",
       "      <td>married</td>\n",
       "      <td>40423</td>\n",
       "      <td>South</td>\n",
       "      <td>normal activity</td>\n",
       "      <td>Young adult (18-33)</td>\n",
       "      <td>Low income</td>\n",
       "      <td>Married with children</td>\n",
       "      <td>beverages</td>\n",
       "    </tr>\n",
       "  </tbody>\n",
       "</table>\n",
       "<p>2 rows × 37 columns</p>\n",
       "</div>"
      ],
      "text/plain": [
       "   order_id  user_id eval_set  order_number  orders_day_of_week  \\\n",
       "0   2539329        1    prior             1                   2   \n",
       "1   2398795        1    prior             2                   3   \n",
       "\n",
       "   order_hour_of_day  days_since_prior_order  product_id  add_to_cart_order  \\\n",
       "0                  8                     NaN         196                  1   \n",
       "1                  7                    15.0         196                  1   \n",
       "\n",
       "   reordered  ... date_joined  n_dependants  fam_status  income region  \\\n",
       "0          0  ...   2/17/2019             3     married   40423  South   \n",
       "1          1  ...   2/17/2019             3     married   40423  South   \n",
       "\n",
       "     activity_flag            age_group income_group        fam_status_flag  \\\n",
       "0  normal activity  Young adult (18-33)   Low income  Married with children   \n",
       "1  normal activity  Young adult (18-33)   Low income  Married with children   \n",
       "\n",
       "  department  \n",
       "0  beverages  \n",
       "1  beverages  \n",
       "\n",
       "[2 rows x 37 columns]"
      ]
     },
     "execution_count": 46,
     "metadata": {},
     "output_type": "execute_result"
    }
   ],
   "source": [
    "# check output\n",
    "\n",
    "df_ords_prods_cust_depts_merged.head(2)"
   ]
  },
  {
   "cell_type": "code",
   "execution_count": 47,
   "id": "a083d772",
   "metadata": {},
   "outputs": [],
   "source": [
    "# export df_ords_prods_cust_depts_merged to prepared data folder\n",
    "\n",
    "df_ords_prods_cust_depts_merged.to_pickle(os.path.join(path, '02 Data','Prepared Data', 'df_ords_prods_cust_depts_merged.pkl'))"
   ]
  },
  {
   "cell_type": "code",
   "execution_count": 48,
   "id": "163e8bba",
   "metadata": {},
   "outputs": [
    {
     "data": {
      "text/plain": [
       "<pandas.core.groupby.generic.DataFrameGroupBy object at 0x000001BCD4EF2250>"
      ]
     },
     "execution_count": 48,
     "metadata": {},
     "output_type": "execute_result"
    }
   ],
   "source": [
    "# group by department\n",
    "\n",
    "df_ords_prods_cust_depts_merged.groupby('department')"
   ]
  },
  {
   "cell_type": "code",
   "execution_count": 49,
   "id": "68d01138",
   "metadata": {},
   "outputs": [
    {
     "data": {
      "text/html": [
       "<div>\n",
       "<style scoped>\n",
       "    .dataframe tbody tr th:only-of-type {\n",
       "        vertical-align: middle;\n",
       "    }\n",
       "\n",
       "    .dataframe tbody tr th {\n",
       "        vertical-align: top;\n",
       "    }\n",
       "\n",
       "    .dataframe thead tr th {\n",
       "        text-align: left;\n",
       "    }\n",
       "\n",
       "    .dataframe thead tr:last-of-type th {\n",
       "        text-align: right;\n",
       "    }\n",
       "</style>\n",
       "<table border=\"1\" class=\"dataframe\">\n",
       "  <thead>\n",
       "    <tr>\n",
       "      <th></th>\n",
       "      <th colspan=\"4\" halign=\"left\">order_number</th>\n",
       "    </tr>\n",
       "    <tr>\n",
       "      <th></th>\n",
       "      <th>mean</th>\n",
       "      <th>max</th>\n",
       "      <th>min</th>\n",
       "      <th>median</th>\n",
       "    </tr>\n",
       "    <tr>\n",
       "      <th>department</th>\n",
       "      <th></th>\n",
       "      <th></th>\n",
       "      <th></th>\n",
       "      <th></th>\n",
       "    </tr>\n",
       "  </thead>\n",
       "  <tbody>\n",
       "    <tr>\n",
       "      <th>alcohol</th>\n",
       "      <td>16.034226</td>\n",
       "      <td>99</td>\n",
       "      <td>1</td>\n",
       "      <td>10.0</td>\n",
       "    </tr>\n",
       "    <tr>\n",
       "      <th>babies</th>\n",
       "      <td>19.867090</td>\n",
       "      <td>99</td>\n",
       "      <td>1</td>\n",
       "      <td>14.0</td>\n",
       "    </tr>\n",
       "    <tr>\n",
       "      <th>bakery</th>\n",
       "      <td>17.856619</td>\n",
       "      <td>99</td>\n",
       "      <td>1</td>\n",
       "      <td>12.0</td>\n",
       "    </tr>\n",
       "    <tr>\n",
       "      <th>beverages</th>\n",
       "      <td>17.901479</td>\n",
       "      <td>99</td>\n",
       "      <td>1</td>\n",
       "      <td>12.0</td>\n",
       "    </tr>\n",
       "    <tr>\n",
       "      <th>breakfast</th>\n",
       "      <td>17.469987</td>\n",
       "      <td>99</td>\n",
       "      <td>1</td>\n",
       "      <td>11.0</td>\n",
       "    </tr>\n",
       "    <tr>\n",
       "      <th>bulk</th>\n",
       "      <td>20.797555</td>\n",
       "      <td>99</td>\n",
       "      <td>1</td>\n",
       "      <td>14.0</td>\n",
       "    </tr>\n",
       "    <tr>\n",
       "      <th>canned goods</th>\n",
       "      <td>16.933858</td>\n",
       "      <td>99</td>\n",
       "      <td>1</td>\n",
       "      <td>11.0</td>\n",
       "    </tr>\n",
       "    <tr>\n",
       "      <th>dairy eggs</th>\n",
       "      <td>18.324695</td>\n",
       "      <td>99</td>\n",
       "      <td>1</td>\n",
       "      <td>12.0</td>\n",
       "    </tr>\n",
       "    <tr>\n",
       "      <th>deli</th>\n",
       "      <td>17.144802</td>\n",
       "      <td>99</td>\n",
       "      <td>1</td>\n",
       "      <td>11.0</td>\n",
       "    </tr>\n",
       "    <tr>\n",
       "      <th>dry goods pasta</th>\n",
       "      <td>16.633019</td>\n",
       "      <td>99</td>\n",
       "      <td>1</td>\n",
       "      <td>11.0</td>\n",
       "    </tr>\n",
       "    <tr>\n",
       "      <th>frozen</th>\n",
       "      <td>16.160739</td>\n",
       "      <td>99</td>\n",
       "      <td>1</td>\n",
       "      <td>10.0</td>\n",
       "    </tr>\n",
       "    <tr>\n",
       "      <th>household</th>\n",
       "      <td>16.438914</td>\n",
       "      <td>99</td>\n",
       "      <td>1</td>\n",
       "      <td>11.0</td>\n",
       "    </tr>\n",
       "    <tr>\n",
       "      <th>international</th>\n",
       "      <td>17.174694</td>\n",
       "      <td>99</td>\n",
       "      <td>1</td>\n",
       "      <td>11.0</td>\n",
       "    </tr>\n",
       "    <tr>\n",
       "      <th>meat seafood</th>\n",
       "      <td>16.576910</td>\n",
       "      <td>99</td>\n",
       "      <td>1</td>\n",
       "      <td>11.0</td>\n",
       "    </tr>\n",
       "    <tr>\n",
       "      <th>missing</th>\n",
       "      <td>24.281327</td>\n",
       "      <td>99</td>\n",
       "      <td>1</td>\n",
       "      <td>18.0</td>\n",
       "    </tr>\n",
       "    <tr>\n",
       "      <th>other</th>\n",
       "      <td>18.096481</td>\n",
       "      <td>99</td>\n",
       "      <td>1</td>\n",
       "      <td>12.0</td>\n",
       "    </tr>\n",
       "    <tr>\n",
       "      <th>pantry</th>\n",
       "      <td>17.328319</td>\n",
       "      <td>99</td>\n",
       "      <td>1</td>\n",
       "      <td>11.0</td>\n",
       "    </tr>\n",
       "    <tr>\n",
       "      <th>personal care</th>\n",
       "      <td>16.933392</td>\n",
       "      <td>99</td>\n",
       "      <td>1</td>\n",
       "      <td>11.0</td>\n",
       "    </tr>\n",
       "    <tr>\n",
       "      <th>pets</th>\n",
       "      <td>15.995927</td>\n",
       "      <td>99</td>\n",
       "      <td>1</td>\n",
       "      <td>11.0</td>\n",
       "    </tr>\n",
       "    <tr>\n",
       "      <th>produce</th>\n",
       "      <td>18.495730</td>\n",
       "      <td>99</td>\n",
       "      <td>1</td>\n",
       "      <td>12.0</td>\n",
       "    </tr>\n",
       "    <tr>\n",
       "      <th>snacks</th>\n",
       "      <td>17.830354</td>\n",
       "      <td>99</td>\n",
       "      <td>1</td>\n",
       "      <td>12.0</td>\n",
       "    </tr>\n",
       "  </tbody>\n",
       "</table>\n",
       "</div>"
      ],
      "text/plain": [
       "                order_number               \n",
       "                        mean max min median\n",
       "department                                 \n",
       "alcohol            16.034226  99   1   10.0\n",
       "babies             19.867090  99   1   14.0\n",
       "bakery             17.856619  99   1   12.0\n",
       "beverages          17.901479  99   1   12.0\n",
       "breakfast          17.469987  99   1   11.0\n",
       "bulk               20.797555  99   1   14.0\n",
       "canned goods       16.933858  99   1   11.0\n",
       "dairy eggs         18.324695  99   1   12.0\n",
       "deli               17.144802  99   1   11.0\n",
       "dry goods pasta    16.633019  99   1   11.0\n",
       "frozen             16.160739  99   1   10.0\n",
       "household          16.438914  99   1   11.0\n",
       "international      17.174694  99   1   11.0\n",
       "meat seafood       16.576910  99   1   11.0\n",
       "missing            24.281327  99   1   18.0\n",
       "other              18.096481  99   1   12.0\n",
       "pantry             17.328319  99   1   11.0\n",
       "personal care      16.933392  99   1   11.0\n",
       "pets               15.995927  99   1   11.0\n",
       "produce            18.495730  99   1   12.0\n",
       "snacks             17.830354  99   1   12.0"
      ]
     },
     "execution_count": 49,
     "metadata": {},
     "output_type": "execute_result"
    }
   ],
   "source": [
    "df_ords_prods_cust_depts_merged.groupby('department').agg({'order_number': ['mean','max','min','median']})"
   ]
  },
  {
   "cell_type": "code",
   "execution_count": 54,
   "id": "ce113eb1",
   "metadata": {},
   "outputs": [],
   "source": [
    "# create income group and department crosstab\n",
    "\n",
    "income_dept = pd.crosstab(df_ords_prods_cust_depts_merged['department'], df_ords_prods_cust_depts_merged['income_group'], dropna = False)"
   ]
  },
  {
   "cell_type": "code",
   "execution_count": 55,
   "id": "78eb6019",
   "metadata": {},
   "outputs": [
    {
     "data": {
      "text/html": [
       "<div>\n",
       "<style scoped>\n",
       "    .dataframe tbody tr th:only-of-type {\n",
       "        vertical-align: middle;\n",
       "    }\n",
       "\n",
       "    .dataframe tbody tr th {\n",
       "        vertical-align: top;\n",
       "    }\n",
       "\n",
       "    .dataframe thead th {\n",
       "        text-align: right;\n",
       "    }\n",
       "</style>\n",
       "<table border=\"1\" class=\"dataframe\">\n",
       "  <thead>\n",
       "    <tr style=\"text-align: right;\">\n",
       "      <th>income_group</th>\n",
       "      <th>High income</th>\n",
       "      <th>Low income</th>\n",
       "      <th>Medium income</th>\n",
       "    </tr>\n",
       "    <tr>\n",
       "      <th>department</th>\n",
       "      <th></th>\n",
       "      <th></th>\n",
       "      <th></th>\n",
       "    </tr>\n",
       "  </thead>\n",
       "  <tbody>\n",
       "    <tr>\n",
       "      <th>alcohol</th>\n",
       "      <td>41099</td>\n",
       "      <td>36650</td>\n",
       "      <td>66878</td>\n",
       "    </tr>\n",
       "    <tr>\n",
       "      <th>babies</th>\n",
       "      <td>105771</td>\n",
       "      <td>82803</td>\n",
       "      <td>221818</td>\n",
       "    </tr>\n",
       "    <tr>\n",
       "      <th>bakery</th>\n",
       "      <td>290807</td>\n",
       "      <td>261763</td>\n",
       "      <td>568258</td>\n",
       "    </tr>\n",
       "    <tr>\n",
       "      <th>beverages</th>\n",
       "      <td>619356</td>\n",
       "      <td>737043</td>\n",
       "      <td>1215502</td>\n",
       "    </tr>\n",
       "    <tr>\n",
       "      <th>breakfast</th>\n",
       "      <td>163094</td>\n",
       "      <td>185892</td>\n",
       "      <td>321864</td>\n",
       "    </tr>\n",
       "    <tr>\n",
       "      <th>bulk</th>\n",
       "      <td>7550</td>\n",
       "      <td>9320</td>\n",
       "      <td>16581</td>\n",
       "    </tr>\n",
       "    <tr>\n",
       "      <th>canned goods</th>\n",
       "      <td>266276</td>\n",
       "      <td>219841</td>\n",
       "      <td>525957</td>\n",
       "    </tr>\n",
       "    <tr>\n",
       "      <th>dairy eggs</th>\n",
       "      <td>1316016</td>\n",
       "      <td>1215904</td>\n",
       "      <td>2645262</td>\n",
       "    </tr>\n",
       "    <tr>\n",
       "      <th>deli</th>\n",
       "      <td>251347</td>\n",
       "      <td>245437</td>\n",
       "      <td>507050</td>\n",
       "    </tr>\n",
       "    <tr>\n",
       "      <th>dry goods pasta</th>\n",
       "      <td>213214</td>\n",
       "      <td>177781</td>\n",
       "      <td>431141</td>\n",
       "    </tr>\n",
       "    <tr>\n",
       "      <th>frozen</th>\n",
       "      <td>542013</td>\n",
       "      <td>505256</td>\n",
       "      <td>1074462</td>\n",
       "    </tr>\n",
       "    <tr>\n",
       "      <th>household</th>\n",
       "      <td>177611</td>\n",
       "      <td>181595</td>\n",
       "      <td>340651</td>\n",
       "    </tr>\n",
       "    <tr>\n",
       "      <th>international</th>\n",
       "      <td>65446</td>\n",
       "      <td>57089</td>\n",
       "      <td>133456</td>\n",
       "    </tr>\n",
       "    <tr>\n",
       "      <th>meat seafood</th>\n",
       "      <td>183165</td>\n",
       "      <td>125796</td>\n",
       "      <td>365820</td>\n",
       "    </tr>\n",
       "    <tr>\n",
       "      <th>missing</th>\n",
       "      <td>16365</td>\n",
       "      <td>15742</td>\n",
       "      <td>32661</td>\n",
       "    </tr>\n",
       "    <tr>\n",
       "      <th>other</th>\n",
       "      <td>8723</td>\n",
       "      <td>8495</td>\n",
       "      <td>17193</td>\n",
       "    </tr>\n",
       "    <tr>\n",
       "      <th>pantry</th>\n",
       "      <td>457860</td>\n",
       "      <td>413041</td>\n",
       "      <td>911804</td>\n",
       "    </tr>\n",
       "    <tr>\n",
       "      <th>personal care</th>\n",
       "      <td>106314</td>\n",
       "      <td>106777</td>\n",
       "      <td>211215</td>\n",
       "    </tr>\n",
       "    <tr>\n",
       "      <th>pets</th>\n",
       "      <td>24975</td>\n",
       "      <td>21593</td>\n",
       "      <td>46492</td>\n",
       "    </tr>\n",
       "    <tr>\n",
       "      <th>produce</th>\n",
       "      <td>2293263</td>\n",
       "      <td>2100660</td>\n",
       "      <td>4685350</td>\n",
       "    </tr>\n",
       "    <tr>\n",
       "      <th>snacks</th>\n",
       "      <td>602852</td>\n",
       "      <td>953000</td>\n",
       "      <td>1210554</td>\n",
       "    </tr>\n",
       "  </tbody>\n",
       "</table>\n",
       "</div>"
      ],
      "text/plain": [
       "income_group     High income  Low income  Medium income\n",
       "department                                             \n",
       "alcohol                41099       36650          66878\n",
       "babies                105771       82803         221818\n",
       "bakery                290807      261763         568258\n",
       "beverages             619356      737043        1215502\n",
       "breakfast             163094      185892         321864\n",
       "bulk                    7550        9320          16581\n",
       "canned goods          266276      219841         525957\n",
       "dairy eggs           1316016     1215904        2645262\n",
       "deli                  251347      245437         507050\n",
       "dry goods pasta       213214      177781         431141\n",
       "frozen                542013      505256        1074462\n",
       "household             177611      181595         340651\n",
       "international          65446       57089         133456\n",
       "meat seafood          183165      125796         365820\n",
       "missing                16365       15742          32661\n",
       "other                   8723        8495          17193\n",
       "pantry                457860      413041         911804\n",
       "personal care         106314      106777         211215\n",
       "pets                   24975       21593          46492\n",
       "produce              2293263     2100660        4685350\n",
       "snacks                602852      953000        1210554"
      ]
     },
     "execution_count": 55,
     "metadata": {},
     "output_type": "execute_result"
    }
   ],
   "source": [
    "# check output\n",
    "\n",
    "income_dept"
   ]
  },
  {
   "cell_type": "code",
   "execution_count": 60,
   "id": "a26a6c01",
   "metadata": {},
   "outputs": [
    {
     "data": {
      "image/png": "[encoded data removed]",
      "text/plain": [
       "<Figure size 640x480 with 1 Axes>"
      ]
     },
     "metadata": {},
     "output_type": "display_data"
    }
   ],
   "source": [
    "# Create a bar chart of the above 'income_dept' crosstab\n",
    "\n",
    "income_dept_bar=income_dept.plot.bar(color=['thistle','cornflowerblue','darkblue'])\n",
    "plt.xlabel(\"Department\", fontsize=11)\n",
    "plt.ylabel(\"Frequency\",fontsize=11)\n",
    "plt.title(\"Department Orders by Income Group\", fontsize=12)\n",
    "plt.legend(loc='center left', bbox_to_anchor=(1.0, 0.5))\n",
    "plt.tight_layout()"
   ]
  },
  {
   "cell_type": "code",
   "execution_count": 68,
   "id": "c8b85470",
   "metadata": {},
   "outputs": [],
   "source": [
    "# export Department Orders by Income Group to visualizations folder\n",
    "\n",
    "income_dept_bar.figure.savefig(os.path.join(path, '04 Analysis','Visualizations', 'income_dept_bar.png'))"
   ]
  },
  {
   "cell_type": "markdown",
   "id": "094ed4ef",
   "metadata": {},
   "source": [
    "# 05(d) Additional visualizations"
   ]
  },
  {
   "cell_type": "code",
   "execution_count": 78,
   "id": "735b6ee7",
   "metadata": {},
   "outputs": [
    {
     "data": {
      "image/png": "[encoded data removed]",
      "text/plain": [
       "<Figure size 640x480 with 1 Axes>"
      ]
     },
     "metadata": {},
     "output_type": "display_data"
    }
   ],
   "source": [
    "# Create a bar chart for age groups\n",
    "\n",
    "bar_age_groups = df_ords_prods_cust_merge['age_group'].value_counts().plot.bar(color=['m'])\n",
    "plt.title(\"Customer Age Groups\",fontsize=12)\n",
    "plt.xlabel(\"Age Group\", fontsize=11)\n",
    "plt.ylabel(\"Frequency\",fontsize=11)\n",
    "plt.tight_layout()"
   ]
  },
  {
   "cell_type": "code",
   "execution_count": 80,
   "id": "d68a9a5e",
   "metadata": {},
   "outputs": [
    {
     "data": {
      "image/png": "[encoded data removed]",
      "text/plain": [
       "<Figure size 640x480 with 1 Axes>"
      ]
     },
     "metadata": {},
     "output_type": "display_data"
    }
   ],
   "source": [
    "# Create a bar chart for income groups\n",
    "\n",
    "bar_income_groups = df_ords_prods_cust_merge['income_group'].value_counts().plot.bar(color=['cornflowerblue'])\n",
    "plt.title(\"Customer Income Groups\",fontsize=12)\n",
    "plt.xlabel(\"Income Group\", fontsize=11)\n",
    "plt.ylabel(\"Frequency\",fontsize=11)\n",
    "plt.tight_layout()"
   ]
  },
  {
   "cell_type": "code",
   "execution_count": 83,
   "id": "e5beb576",
   "metadata": {},
   "outputs": [],
   "source": [
    "# export age group bar graph to visualizations folder\n",
    "\n",
    "bar_age_groups.figure.savefig(os.path.join(path, '04 Analysis','Visualizations', 'bar_age_groups.png'))"
   ]
  },
  {
   "cell_type": "code",
   "execution_count": 84,
   "id": "65b9f46d",
   "metadata": {},
   "outputs": [],
   "source": [
    "# export income group bar graph to visualizations folder\n",
    "\n",
    "bar_income_groups.figure.savefig(os.path.join(path, '04 Analysis','Visualizations', 'bar_income_groups.png'))"
   ]
  },
  {
   "cell_type": "code",
   "execution_count": null,
   "id": "dcfca68f",
   "metadata": {},
   "outputs": [],
   "source": []
  }
 ],
 "metadata": {
  "kernelspec": {
   "display_name": "Python 3 (ipykernel)",
   "language": "python",
   "name": "python3"
  },
  "language_info": {
   "codemirror_mode": {
    "name": "ipython",
    "version": 3
   },
   "file_extension": ".py",
   "mimetype": "text/x-python",
   "name": "python",
   "nbconvert_exporter": "python",
   "pygments_lexer": "ipython3",
   "version": "3.11.5"
  }
 },
 "nbformat": 4,
 "nbformat_minor": 5
}
